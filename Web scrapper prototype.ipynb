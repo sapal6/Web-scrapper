{
 "cells": [
  {
   "cell_type": "markdown",
   "metadata": {},
   "source": [
    "### Url and section of the page scrapped for the prototype.\n",
    "\n",
    "url = https://www.ema.europa.eu/en/human-regulatory/overview/public-health-threats/coronavirus-disease-covid-19/covid-19-whats-new\n",
    "\n",
    "The table which was scrapped from the web page is highlighted in the \"Annotation.png\" file (in the root folder of this github repo).\n",
    "\n",
    "The idea is to scrap relevant content from the page and then create a dataframe out of those scrapped data. Here I have scrapped teh table which was available on the page so the scrapped data had a suitable format for a dataframe. However for other texts, blobs, links, document content etc we will have to do formatting.\n",
    "\n",
    "As of now I have some questions here-->\n",
    "* Do we have a rough picture of what type of content we are trying to parse fromt hese websites?\n",
    "* Where the completed web scrapper would be run? Will it be on a server or cluster?. Depending on the hadware available we can think of the depth to which we can scrap.\n",
    "* In what format do we want to collect the data. Will it be a single dataframe or multiple dataframes as per teh type of content scrapped."
   ]
  },
  {
   "cell_type": "markdown",
   "metadata": {},
   "source": [
    "### The parser prototype\n",
    "Parser function to parse the websites and creating a dataframe."
   ]
  },
  {
   "cell_type": "code",
   "execution_count": 1,
   "metadata": {
    "collapsed": true
   },
   "outputs": [],
   "source": [
    "from bs4 import BeautifulSoup\n",
    "import requests\n",
    "import pandas as pd"
   ]
  },
  {
   "cell_type": "code",
   "execution_count": 2,
   "metadata": {
    "collapsed": true
   },
   "outputs": [],
   "source": [
    "def parse(url):\n",
    "    fetched_content = requests.get(url)\n",
    "    soup = BeautifulSoup(fetched_content.content, 'lxml')\n",
    "    table = soup.find('table', { 'class' : \"ecl-table ecl-table--responsive\" })\n",
    "    \n",
    "    rows = []\n",
    "    trs = table.find_all('tr')\n",
    "    headerow = [td.get_text(strip=True) for td in trs[0].find_all('th')]\n",
    "    if headerow: \n",
    "        rows.append(headerow)\n",
    "        trs = trs[1:]\n",
    "    for tr in trs: \n",
    "        rows.append([td.get_text(strip=True) for td in tr.find_all('td')])\n",
    "    return rows\n",
    "\n",
    "def return_dataframe(raw_content):\n",
    "    return pd.DataFrame(raw_content[1:], columns=raw_content[0])"
   ]
  },
  {
   "cell_type": "code",
   "execution_count": 3,
   "metadata": {},
   "outputs": [
    {
     "data": {
      "text/html": [
       "<div>\n",
       "<style scoped>\n",
       "    .dataframe tbody tr th:only-of-type {\n",
       "        vertical-align: middle;\n",
       "    }\n",
       "\n",
       "    .dataframe tbody tr th {\n",
       "        vertical-align: top;\n",
       "    }\n",
       "\n",
       "    .dataframe thead th {\n",
       "        text-align: right;\n",
       "    }\n",
       "</style>\n",
       "<table border=\"1\" class=\"dataframe\">\n",
       "  <thead>\n",
       "    <tr style=\"text-align: right;\">\n",
       "      <th></th>\n",
       "      <th>DATE</th>\n",
       "      <th>TOPIC</th>\n",
       "      <th>UPDATE</th>\n",
       "      <th>MORE INFORMATION</th>\n",
       "    </tr>\n",
       "  </thead>\n",
       "  <tbody>\n",
       "    <tr>\n",
       "      <th>0</th>\n",
       "      <td>24 April</td>\n",
       "      <td>Availability of medicines during COVID-19 pand...</td>\n",
       "      <td>EMA provided an update on the measures EU auth...</td>\n",
       "      <td>EU actions to support availability of medicine...</td>\n",
       "    </tr>\n",
       "    <tr>\n",
       "      <th>1</th>\n",
       "      <td>24 April</td>\n",
       "      <td>Public-health advice during COVID-19 pandemic</td>\n",
       "      <td>EMA and thenational competent authoritiesremin...</td>\n",
       "      <td>Reporting suspected side effects of medicines ...</td>\n",
       "    </tr>\n",
       "    <tr>\n",
       "      <th>2</th>\n",
       "      <td>23 April</td>\n",
       "      <td>EMA’s governance during COVID-19 pandemic</td>\n",
       "      <td>EMA announced that essential work to combat th...</td>\n",
       "      <td>Essential work to combat the COVID-19 pandemic...</td>\n",
       "    </tr>\n",
       "  </tbody>\n",
       "</table>\n",
       "</div>"
      ],
      "text/plain": [
       "       DATE                                              TOPIC  \\\n",
       "0  24 April  Availability of medicines during COVID-19 pand...   \n",
       "1  24 April      Public-health advice during COVID-19 pandemic   \n",
       "2  23 April          EMA’s governance during COVID-19 pandemic   \n",
       "\n",
       "                                              UPDATE  \\\n",
       "0  EMA provided an update on the measures EU auth...   \n",
       "1  EMA and thenational competent authoritiesremin...   \n",
       "2  EMA announced that essential work to combat th...   \n",
       "\n",
       "                                    MORE INFORMATION  \n",
       "0  EU actions to support availability of medicine...  \n",
       "1  Reporting suspected side effects of medicines ...  \n",
       "2  Essential work to combat the COVID-19 pandemic...  "
      ]
     },
     "execution_count": 3,
     "metadata": {},
     "output_type": "execute_result"
    }
   ],
   "source": [
    "raw_content = parse(\"https://www.ema.europa.eu/en/human-regulatory/overview/public-health-threats/coronavirus-disease-covid-19/covid-19-whats-new\")\n",
    "\n",
    "dataframe = return_dataframe(raw_content)\n",
    "dataframe.head(3)"
   ]
  },
  {
   "cell_type": "code",
   "execution_count": 4,
   "metadata": {
    "collapsed": true
   },
   "outputs": [],
   "source": [
    "dataframe.to_csv(\"parsed_sample.csv\")"
   ]
  }
 ],
 "metadata": {
  "kernelspec": {
   "display_name": "Python 3",
   "language": "python",
   "name": "python3"
  },
  "language_info": {
   "codemirror_mode": {
    "name": "ipython",
    "version": 3
   },
   "file_extension": ".py",
   "mimetype": "text/x-python",
   "name": "python",
   "nbconvert_exporter": "python",
   "pygments_lexer": "ipython3",
   "version": "3.6.3"
  }
 },
 "nbformat": 4,
 "nbformat_minor": 2
}
